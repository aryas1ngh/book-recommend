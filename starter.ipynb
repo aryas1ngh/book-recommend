{
 "cells": [
  {
   "cell_type": "code",
   "execution_count": 1,
   "metadata": {},
   "outputs": [],
   "source": [
    "from tqdm import tqdm\n",
    "import pandas as pd"
   ]
  },
  {
   "cell_type": "code",
   "execution_count": 2,
   "metadata": {},
   "outputs": [],
   "source": [
    "books_df=pd.read_csv('goodbooks-10k/books.csv')\n",
    "tags_df=pd.read_csv('goodbooks-10k/tags.csv')\n",
    "book_tags_df=pd.read_csv('goodbooks-10k/book_tags.csv')"
   ]
  },
  {
   "cell_type": "code",
   "execution_count": 3,
   "metadata": {},
   "outputs": [
    {
     "data": {
      "text/html": [
       "<div>\n",
       "<style scoped>\n",
       "    .dataframe tbody tr th:only-of-type {\n",
       "        vertical-align: middle;\n",
       "    }\n",
       "\n",
       "    .dataframe tbody tr th {\n",
       "        vertical-align: top;\n",
       "    }\n",
       "\n",
       "    .dataframe thead th {\n",
       "        text-align: right;\n",
       "    }\n",
       "</style>\n",
       "<table border=\"1\" class=\"dataframe\">\n",
       "  <thead>\n",
       "    <tr style=\"text-align: right;\">\n",
       "      <th></th>\n",
       "      <th>tag_id</th>\n",
       "      <th>tag_name</th>\n",
       "    </tr>\n",
       "  </thead>\n",
       "  <tbody>\n",
       "    <tr>\n",
       "      <th>0</th>\n",
       "      <td>0</td>\n",
       "      <td>-</td>\n",
       "    </tr>\n",
       "    <tr>\n",
       "      <th>1</th>\n",
       "      <td>1</td>\n",
       "      <td>--1-</td>\n",
       "    </tr>\n",
       "    <tr>\n",
       "      <th>2</th>\n",
       "      <td>2</td>\n",
       "      <td>--10-</td>\n",
       "    </tr>\n",
       "    <tr>\n",
       "      <th>3</th>\n",
       "      <td>3</td>\n",
       "      <td>--12-</td>\n",
       "    </tr>\n",
       "    <tr>\n",
       "      <th>4</th>\n",
       "      <td>4</td>\n",
       "      <td>--122-</td>\n",
       "    </tr>\n",
       "    <tr>\n",
       "      <th>...</th>\n",
       "      <td>...</td>\n",
       "      <td>...</td>\n",
       "    </tr>\n",
       "    <tr>\n",
       "      <th>34247</th>\n",
       "      <td>34247</td>\n",
       "      <td>Ｃhildrens</td>\n",
       "    </tr>\n",
       "    <tr>\n",
       "      <th>34248</th>\n",
       "      <td>34248</td>\n",
       "      <td>Ｆａｖｏｒｉｔｅｓ</td>\n",
       "    </tr>\n",
       "    <tr>\n",
       "      <th>34249</th>\n",
       "      <td>34249</td>\n",
       "      <td>Ｍａｎｇａ</td>\n",
       "    </tr>\n",
       "    <tr>\n",
       "      <th>34250</th>\n",
       "      <td>34250</td>\n",
       "      <td>ＳＥＲＩＥＳ</td>\n",
       "    </tr>\n",
       "    <tr>\n",
       "      <th>34251</th>\n",
       "      <td>34251</td>\n",
       "      <td>ｆａｖｏｕｒｉｔｅｓ</td>\n",
       "    </tr>\n",
       "  </tbody>\n",
       "</table>\n",
       "<p>34252 rows × 2 columns</p>\n",
       "</div>"
      ],
      "text/plain": [
       "       tag_id    tag_name\n",
       "0           0           -\n",
       "1           1        --1-\n",
       "2           2       --10-\n",
       "3           3       --12-\n",
       "4           4      --122-\n",
       "...       ...         ...\n",
       "34247   34247   Ｃhildrens\n",
       "34248   34248   Ｆａｖｏｒｉｔｅｓ\n",
       "34249   34249       Ｍａｎｇａ\n",
       "34250   34250      ＳＥＲＩＥＳ\n",
       "34251   34251  ｆａｖｏｕｒｉｔｅｓ\n",
       "\n",
       "[34252 rows x 2 columns]"
      ]
     },
     "execution_count": 3,
     "metadata": {},
     "output_type": "execute_result"
    }
   ],
   "source": [
    "tags_df"
   ]
  },
  {
   "cell_type": "code",
   "execution_count": 4,
   "metadata": {},
   "outputs": [],
   "source": [
    "tag_id_to_name = dict(zip(tags_df['tag_id'], tags_df['tag_name']))"
   ]
  },
  {
   "cell_type": "code",
   "execution_count": 7,
   "metadata": {},
   "outputs": [],
   "source": [
    "useless_tags=set([\n",
    "    'to-read', 'currently-reading', 'favorites', 'owned',\n",
    "    'wishlist', 'default', 'my-books', 'books-i-own',\n",
    "     'library', 'audio', 'read', 'books', 'bookshelves', 'owned-books'\n",
    "])"
   ]
  },
  {
   "cell_type": "code",
   "execution_count": 8,
   "metadata": {},
   "outputs": [
    {
     "name": "stderr",
     "output_type": "stream",
     "text": [
      "Processing tags...: 100%|██████████| 10000/10000 [00:00<00:00, 18844.78it/s]\n"
     ]
    }
   ],
   "source": [
    "book_tags_map={}\n",
    "grouped=book_tags_df.groupby('goodreads_book_id')\n",
    "\n",
    "for book_id, group in tqdm(grouped, desc=\"Processing tags...\"):\n",
    "    \n",
    "    # take top 5 tags\n",
    "    top_tags=group.sort_values('count', ascending=False).head(5)['tag_id'].tolist()\n",
    "    \n",
    "    tag_names=[]\n",
    "    for tid in top_tags:\n",
    "        tag_name=tag_id_to_name.get(tid, '').lower()\n",
    "        if tag_name not in useless_tags:\n",
    "            tag_names.append(tag_name)\n",
    "    \n",
    "    book_tags_map[book_id]=tag_names"
   ]
  },
  {
   "cell_type": "code",
   "execution_count": 9,
   "metadata": {},
   "outputs": [
    {
     "name": "stdout",
     "output_type": "stream",
     "text": [
      "['book_id', 'goodreads_book_id', 'best_book_id', 'work_id', 'books_count', 'isbn', 'isbn13', 'authors', 'original_publication_year', 'original_title', 'title', 'language_code', 'average_rating', 'ratings_count', 'work_ratings_count', 'work_text_reviews_count', 'ratings_1', 'ratings_2', 'ratings_3', 'ratings_4', 'ratings_5', 'image_url', 'small_image_url']\n"
     ]
    }
   ],
   "source": [
    "print(books_df.columns.tolist())"
   ]
  },
  {
   "cell_type": "code",
   "execution_count": 10,
   "metadata": {},
   "outputs": [
    {
     "name": "stderr",
     "output_type": "stream",
     "text": [
      "Building books list...: 100%|██████████| 10000/10000 [00:00<00:00, 67435.47it/s]\n"
     ]
    }
   ],
   "source": [
    "books=[]\n",
    "for _, row in tqdm(books_df.iterrows(), total=len(books_df), desc=\"Building books list...\"):\n",
    "\n",
    "    book_id=row['goodreads_book_id']\n",
    "    tags_list=book_tags_map.get(book_id, [])\n",
    "    tags_text=', '.join(tags_list)\n",
    "\n",
    "    books.append({\n",
    "        'title':row['title'],\n",
    "        'authors':row['authors'],\n",
    "        'average_rating':row['average_rating'],\n",
    "        'genres':tags_text,\n",
    "    })"
   ]
  },
  {
   "cell_type": "code",
   "execution_count": 11,
   "metadata": {},
   "outputs": [
    {
     "name": "stdout",
     "output_type": "stream",
     "text": [
      "10000 books loaded.\n"
     ]
    }
   ],
   "source": [
    "print(f'{len(books)} books loaded.')"
   ]
  },
  {
   "cell_type": "markdown",
   "metadata": {},
   "source": [
    "## Building corpus"
   ]
  },
  {
   "cell_type": "code",
   "execution_count": 12,
   "metadata": {},
   "outputs": [
    {
     "data": {
      "text/plain": [
       "['The Hunger Games (The Hunger Games, #1) by Suzanne Collins. Tags: young-adult, fiction, dystopian',\n",
       " \"Harry Potter and the Sorcerer's Stone (Harry Potter, #1) by J.K. Rowling, Mary GrandPré. Tags: fantasy, young-adult\",\n",
       " 'Twilight (Twilight, #1) by Stephenie Meyer. Tags: young-adult, fantasy, vampires, ya',\n",
       " 'To Kill a Mockingbird by Harper Lee. Tags: classics, classic, historical-fiction',\n",
       " 'The Great Gatsby by F. Scott Fitzgerald. Tags: classics, fiction, classic']"
      ]
     },
     "execution_count": 12,
     "metadata": {},
     "output_type": "execute_result"
    }
   ],
   "source": [
    "corpus=[f\"{b['title']} by {b['authors']}. Tags: {b['genres']}\" for b in books]\n",
    "corpus[:5]\n"
   ]
  },
  {
   "cell_type": "markdown",
   "metadata": {},
   "source": [
    "## Loading model"
   ]
  },
  {
   "cell_type": "code",
   "execution_count": 13,
   "metadata": {},
   "outputs": [],
   "source": [
    "from sentence_transformers import SentenceTransformer\n",
    "encoder=SentenceTransformer('all-mpnet-base-v2')"
   ]
  },
  {
   "cell_type": "code",
   "execution_count": 14,
   "metadata": {},
   "outputs": [
    {
     "name": "stderr",
     "output_type": "stream",
     "text": [
      "Encoding books...: 100%|██████████| 157/157 [00:50<00:00,  3.09it/s]"
     ]
    },
    {
     "name": "stdout",
     "output_type": "stream",
     "text": [
      "Embeddings shape: (10000, 768)\n"
     ]
    },
    {
     "name": "stderr",
     "output_type": "stream",
     "text": [
      "\n"
     ]
    }
   ],
   "source": [
    "import numpy as np\n",
    "\n",
    "BATCH_SIZE=64\n",
    "book_embeddings=[]\n",
    "\n",
    "for i in tqdm(range(0, len(corpus), BATCH_SIZE), desc=\"Encoding books...\"):\n",
    "    batch=corpus[i:i+BATCH_SIZE]\n",
    "    book_embeddings.extend(encoder.encode(batch))\n",
    "\n",
    "book_embeddings=np.array(book_embeddings)\n",
    "print(f\"Embeddings shape: {book_embeddings.shape}\")\n"
   ]
  },
  {
   "cell_type": "code",
   "execution_count": 15,
   "metadata": {},
   "outputs": [],
   "source": [
    "import faiss\n",
    "from sklearn.preprocessing import normalize\n",
    "\n",
    "# normalize embeds\n",
    "book_embeddings_norm=normalize(book_embeddings, axis=1)\n",
    "\n",
    "# cosine similarity\n",
    "index=faiss.IndexFlatIP(book_embeddings.shape[1]) \n",
    "index.add(book_embeddings_norm)"
   ]
  },
  {
   "cell_type": "code",
   "execution_count": 16,
   "metadata": {},
   "outputs": [],
   "source": [
    "def find_five_books(query_text, top_n=5):\n",
    "    query_embedding=encoder.encode([query_text])\n",
    "    query_embedding=normalize(query_embedding, axis=1)\n",
    "\n",
    "    D,I=index.search(query_embedding, top_n)\n",
    "    results=[]\n",
    "    for idx in I[0]:\n",
    "        b=books[idx]\n",
    "        results.append({\n",
    "            'title':b['title'],\n",
    "            'authors':b['authors'],\n",
    "            'genres':b['genres'],\n",
    "            'average_rating':b['average_rating']\n",
    "        })\n",
    "    return results\n"
   ]
  },
  {
   "cell_type": "markdown",
   "metadata": {},
   "source": []
  },
  {
   "cell_type": "code",
   "execution_count": 17,
   "metadata": {},
   "outputs": [
    {
     "name": "stdout",
     "output_type": "stream",
     "text": [
      "1. Shift (Silo, #2)\n",
      "   Author: Hugh Howey \n",
      "   Rating: 4.12\n",
      "   Top Tags: science-fiction, sci-fi, fiction, dystopian\n",
      "\n",
      "2. Metro 2033 (METRO, #1)\n",
      "   Author: Dmitry Glukhovsky, M. David Drevs \n",
      "   Rating: 3.98\n",
      "   Top Tags: science-fiction, sci-fi\n",
      "\n",
      "3. Daemon (Daemon, #1)\n",
      "   Author: Daniel Suarez \n",
      "   Rating: 4.17\n",
      "   Top Tags: technology\n",
      "\n",
      "4. We\n",
      "   Author: Yevgeny Zamyatin, Clarence Brown \n",
      "   Rating: 3.95\n",
      "   Top Tags: fiction, science-fiction, dystopia\n",
      "\n",
      "5. Dust (Silo, #3)\n",
      "   Author: Hugh Howey \n",
      "   Rating: 4.26\n",
      "   Top Tags: science-fiction, sci-fi, fiction, dystopian\n",
      "\n"
     ]
    }
   ],
   "source": [
    "query = 'sci-fi dystopia tech'\n",
    "results=find_five_books(query)\n",
    "\n",
    "i=1\n",
    "for r in results:\n",
    "    print(f\"{i}. {r['title']}\\n   Author: {r['authors']} \\n   Rating: {r['average_rating']}\\n   Top Tags: {r['genres']}\\n\")\n",
    "    i+=1"
   ]
  },
  {
   "cell_type": "code",
   "execution_count": null,
   "metadata": {},
   "outputs": [],
   "source": []
  }
 ],
 "metadata": {
  "kernelspec": {
   "display_name": "base",
   "language": "python",
   "name": "python3"
  },
  "language_info": {
   "codemirror_mode": {
    "name": "ipython",
    "version": 3
   },
   "file_extension": ".py",
   "mimetype": "text/x-python",
   "name": "python",
   "nbconvert_exporter": "python",
   "pygments_lexer": "ipython3",
   "version": "3.11.5"
  }
 },
 "nbformat": 4,
 "nbformat_minor": 2
}
